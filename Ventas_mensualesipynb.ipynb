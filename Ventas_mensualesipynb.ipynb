{
  "nbformat": 4,
  "nbformat_minor": 0,
  "metadata": {
    "colab": {
      "provenance": [],
      "authorship_tag": "ABX9TyNjKEMZxFiXmkO1xc41xShB",
      "include_colab_link": true
    },
    "kernelspec": {
      "name": "python3",
      "display_name": "Python 3"
    },
    "language_info": {
      "name": "python"
    }
  },
  "cells": [
    {
      "cell_type": "markdown",
      "metadata": {
        "id": "view-in-github",
        "colab_type": "text"
      },
      "source": [
        "<a href=\"https://colab.research.google.com/github/rebeca07-pedrozo/ATM/blob/main/Ventas_mensualesipynb.ipynb\" target=\"_parent\"><img src=\"https://colab.research.google.com/assets/colab-badge.svg\" alt=\"Open In Colab\"/></a>"
      ]
    },
    {
      "cell_type": "code",
      "execution_count": 1,
      "metadata": {
        "colab": {
          "base_uri": "https://localhost:8080/"
        },
        "id": "MjtehqQvopui",
        "outputId": "d6f96c69-8335-457f-a19d-178060f674d9"
      },
      "outputs": [
        {
          "output_type": "stream",
          "name": "stdout",
          "text": [
            "Requirement already satisfied: numpy in /usr/local/lib/python3.11/dist-packages (2.0.2)\n"
          ]
        }
      ],
      "source": [
        "!pip install numpy"
      ]
    },
    {
      "cell_type": "code",
      "source": [
        "import numpy as np"
      ],
      "metadata": {
        "id": "ZTwxx3LHo3JJ"
      },
      "execution_count": 2,
      "outputs": []
    },
    {
      "cell_type": "code",
      "source": [
        "month = np.array(['Enero', 'Febrero', 'Marzo', 'Abril',\n",
        "                  'Mayo', 'Junio', 'Julio', 'Agosto',\n",
        "                  'Septiembre', 'Octubre', 'Noviembre',\n",
        "                  'Diciembre'])\n",
        "product_A = np.array([150,200,250,300,220,210,180,190,230,240,280,300])\n",
        "product_B = np.array([180,210,230,250,270,260,240,250,270,290,310,330])\n",
        "product_c = np.array([200,220,240,260,280,300,320,340,360,380,400,420])"
      ],
      "metadata": {
        "id": "SId57KDyo57v"
      },
      "execution_count": 5,
      "outputs": []
    },
    {
      "cell_type": "code",
      "source": [
        "total_productoA= np.sum(product_A)\n",
        "total_productoB= np.sum(product_B)\n",
        "total_productoC= np.sum(product_c)\n",
        "print(total_productoA)\n",
        "print(total_productoB)\n",
        "print(total_productoC)\n"
      ],
      "metadata": {
        "colab": {
          "base_uri": "https://localhost:8080/"
        },
        "id": "dhS-cas0pHJ5",
        "outputId": "2f991a0f-c05b-4ef6-ec50-5354248d223b"
      },
      "execution_count": 12,
      "outputs": [
        {
          "output_type": "stream",
          "name": "stdout",
          "text": [
            "2750\n",
            "3090\n",
            "3720\n"
          ]
        }
      ]
    },
    {
      "cell_type": "code",
      "source": [
        "TresPrimerosMesesA=np.sum(product_A[:3])\n",
        "TresPrimerosMesesB=np.sum(product_B[:3])\n",
        "TresPrimerosMesesC=np.sum(product_c[:3])\n",
        "primerosTresMeses=np.array([TresPrimerosMesesA,TresPrimerosMesesB,TresPrimerosMesesC])\n",
        "print(primerosTresMeses)"
      ],
      "metadata": {
        "colab": {
          "base_uri": "https://localhost:8080/"
        },
        "id": "fpXwKg0gq7Ws",
        "outputId": "cad58056-670e-473a-cb37-ad83af7f8ee7"
      },
      "execution_count": 11,
      "outputs": [
        {
          "output_type": "stream",
          "name": "stdout",
          "text": [
            "[600 620 660]\n"
          ]
        }
      ]
    },
    {
      "cell_type": "code",
      "source": [
        "Concatenar=np.concatenate((product_A,product_B,product_c))\n",
        "print(Concatenar)"
      ],
      "metadata": {
        "colab": {
          "base_uri": "https://localhost:8080/"
        },
        "id": "vonxNP7lsGg_",
        "outputId": "7365cc54-9831-4e84-8b75-bea72f631654"
      },
      "execution_count": 13,
      "outputs": [
        {
          "output_type": "stream",
          "name": "stdout",
          "text": [
            "[150 200 250 300 220 210 180 190 230 240 280 300 180 210 230 250 270 260\n",
            " 240 250 270 290 310 330 200 220 240 260 280 300 320 340 360 380 400 420]\n"
          ]
        }
      ]
    },
    {
      "cell_type": "code",
      "source": [
        "unique_elements, counts=np.unique(Concatenar, return_counts=True)\n",
        "print(unique_elements)\n",
        "print(counts)"
      ],
      "metadata": {
        "colab": {
          "base_uri": "https://localhost:8080/"
        },
        "id": "3bKTPxUY2Rzb",
        "outputId": "3df07f0d-beda-4e22-d267-b8206059de5c"
      },
      "execution_count": 18,
      "outputs": [
        {
          "output_type": "stream",
          "name": "stdout",
          "text": [
            "[150 180 190 200 210 220 230 240 250 260 270 280 290 300 310 320 330 340\n",
            " 360 380 400 420]\n",
            "[1 2 1 2 2 2 2 3 3 2 2 2 1 3 1 1 1 1 1 1 1 1]\n"
          ]
        }
      ]
    },
    {
      "cell_type": "code",
      "source": [
        "counts=np.mean(counts)\n",
        "print(counts)"
      ],
      "metadata": {
        "colab": {
          "base_uri": "https://localhost:8080/"
        },
        "id": "fokFNHgC3E3-",
        "outputId": "1df7137e-0637-49d0-b0d4-77f0b5b1ed69"
      },
      "execution_count": 20,
      "outputs": [
        {
          "output_type": "stream",
          "name": "stdout",
          "text": [
            "1.6363636363636365\n"
          ]
        }
      ]
    }
  ]
}