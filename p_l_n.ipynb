{
  "nbformat": 4,
  "nbformat_minor": 0,
  "metadata": {
    "colab": {
      "provenance": [],
      "toc_visible": true,
      "include_colab_link": true
    },
    "kernelspec": {
      "name": "python3",
      "display_name": "Python 3"
    },
    "language_info": {
      "name": "python"
    }
  },
  "cells": [
    {
      "cell_type": "markdown",
      "metadata": {
        "id": "view-in-github",
        "colab_type": "text"
      },
      "source": [
        "<a href=\"https://colab.research.google.com/github/rebeca07-pedrozo/ATM/blob/main/p_l_n.ipynb\" target=\"_parent\"><img src=\"https://colab.research.google.com/assets/colab-badge.svg\" alt=\"Open In Colab\"/></a>"
      ]
    },
    {
      "cell_type": "code",
      "execution_count": null,
      "metadata": {
        "id": "Dk4Yhs1E2dhy"
      },
      "outputs": [],
      "source": [
        "import numpy as np\n",
        "import pandas as pd\n",
        "import matplotlib.pyplot as plt\n",
        "from sympy import symbols, Eq"
      ]
    },
    {
      "cell_type": "markdown",
      "source": [
        "Integrantes:\n",
        "*    Jahiro Bermejo\n",
        "*   Jarol Gutierrez\n",
        "*    Orlando Stalin\n",
        "*    Rebeca Pedrozo"
      ],
      "metadata": {
        "id": "ilEB9K1XR2se"
      }
    },
    {
      "cell_type": "markdown",
      "source": [
        "# Ejercicios sábado 9 de agosto"
      ],
      "metadata": {
        "id": "C32An5a34h7a"
      }
    },
    {
      "cell_type": "markdown",
      "source": [
        "**Ejercicio  1**"
      ],
      "metadata": {
        "id": "GD1Blkhw49a7"
      }
    },
    {
      "cell_type": "code",
      "source": [
        "Logaritmo1=np.log(np.pi/4)\n",
        "Logaritmo2=np.log(np.e**2)\n",
        "print(Logaritmo2)\n",
        "Seno=np.sin(np.pi/2)\n",
        "print(Seno)\n",
        "Arct=np.arctan(1)\n",
        "print(Arct)\n",
        "Log2=np.log2(10)\n"
      ],
      "metadata": {
        "id": "Jd25Xl8A5AXn",
        "colab": {
          "base_uri": "https://localhost:8080/"
        },
        "outputId": "f18aa293-49d0-4dd0-c566-3bb8e56c9cf8"
      },
      "execution_count": null,
      "outputs": [
        {
          "output_type": "stream",
          "name": "stdout",
          "text": [
            "2.0\n",
            "1.0\n",
            "0.7853981633974483\n"
          ]
        }
      ]
    },
    {
      "cell_type": "code",
      "source": [
        "print(np.log(np.pi/4))\n"
      ],
      "metadata": {
        "colab": {
          "base_uri": "https://localhost:8080/"
        },
        "id": "68MJlmd2w1LQ",
        "outputId": "d229b6fa-d1b8-4369-f4df-9c16c34a679e"
      },
      "execution_count": null,
      "outputs": [
        {
          "output_type": "stream",
          "name": "stdout",
          "text": [
            "-0.2415644752704905\n"
          ]
        }
      ]
    },
    {
      "cell_type": "code",
      "source": [
        "print(np.log(np.e**2))"
      ],
      "metadata": {
        "colab": {
          "base_uri": "https://localhost:8080/"
        },
        "id": "-SoV7I0xw6uI",
        "outputId": "23fffbe4-693d-4373-c4fe-93713a272f63"
      },
      "execution_count": null,
      "outputs": [
        {
          "output_type": "stream",
          "name": "stdout",
          "text": [
            "2.0\n"
          ]
        }
      ]
    },
    {
      "cell_type": "code",
      "source": [
        "print(np.sin(np.pi/2))"
      ],
      "metadata": {
        "colab": {
          "base_uri": "https://localhost:8080/"
        },
        "id": "YehTaemlw77G",
        "outputId": "d04017f4-5bef-43f6-a21a-7910cea671da"
      },
      "execution_count": null,
      "outputs": [
        {
          "output_type": "stream",
          "name": "stdout",
          "text": [
            "1.0\n"
          ]
        }
      ]
    },
    {
      "cell_type": "code",
      "source": [
        "print(np.arctan(1))"
      ],
      "metadata": {
        "colab": {
          "base_uri": "https://localhost:8080/"
        },
        "id": "qlOimnRdw_Zr",
        "outputId": "fc9eabd2-fa4e-4eeb-83af-c142cfeea0ba"
      },
      "execution_count": null,
      "outputs": [
        {
          "output_type": "stream",
          "name": "stdout",
          "text": [
            "0.7853981633974483\n"
          ]
        }
      ]
    },
    {
      "cell_type": "code",
      "source": [
        "print(np.log2(10))"
      ],
      "metadata": {
        "colab": {
          "base_uri": "https://localhost:8080/"
        },
        "id": "serrHBt5xCs7",
        "outputId": "e9ed13bc-a18b-4685-a9c5-428cbf6dae82"
      },
      "execution_count": null,
      "outputs": [
        {
          "output_type": "stream",
          "name": "stdout",
          "text": [
            "3.321928094887362\n"
          ]
        }
      ]
    },
    {
      "cell_type": "markdown",
      "source": [
        "**Ejericio 2**"
      ],
      "metadata": {
        "id": "0Srmw4lY5Dnx"
      }
    },
    {
      "cell_type": "code",
      "source": [
        "A=np.array([2,-1,4,0,3])\n",
        "B=np.array([-1,0,2,3,1])\n",
        "C=np.array([0,1,-3,4,-7])\n",
        "print(A,B,C)"
      ],
      "metadata": {
        "colab": {
          "base_uri": "https://localhost:8080/"
        },
        "id": "6ylaQ1_O5FhN",
        "outputId": "a61f7020-b02f-4111-e621-4b915c0665b2"
      },
      "execution_count": null,
      "outputs": [
        {
          "output_type": "stream",
          "name": "stdout",
          "text": [
            "[ 2 -1  4  0  3] [-1  0  2  3  1] [ 0  1 -3  4 -7]\n"
          ]
        }
      ]
    },
    {
      "cell_type": "code",
      "source": [
        "operacion1=(2*A)-(3*B)+C\n",
        "print(operacion1)"
      ],
      "metadata": {
        "colab": {
          "base_uri": "https://localhost:8080/"
        },
        "id": "6_zIFbwF7eWa",
        "outputId": "eac7b995-1941-4591-d762-dd304fda9ba7"
      },
      "execution_count": null,
      "outputs": [
        {
          "output_type": "stream",
          "name": "stdout",
          "text": [
            "[ 7 -1 -1 -5 -4]\n"
          ]
        }
      ]
    },
    {
      "cell_type": "code",
      "source": [
        "operacion2=np.dot(A,B)\n",
        "print(operacion2)"
      ],
      "metadata": {
        "colab": {
          "base_uri": "https://localhost:8080/"
        },
        "id": "CZ4zpMog7eey",
        "outputId": "6e42fabc-00b4-4acf-84ba-5d7099397568"
      },
      "execution_count": null,
      "outputs": [
        {
          "output_type": "stream",
          "name": "stdout",
          "text": [
            "9\n"
          ]
        }
      ]
    },
    {
      "cell_type": "code",
      "source": [
        "operacion3=A*B\n",
        "print(operacion3)\n"
      ],
      "metadata": {
        "colab": {
          "base_uri": "https://localhost:8080/"
        },
        "id": "8pThAfsJ7fNA",
        "outputId": "763559a7-4aa1-4cca-c852-ab3c701cc39f"
      },
      "execution_count": null,
      "outputs": [
        {
          "output_type": "stream",
          "name": "stdout",
          "text": [
            "[-2  0  8  0  3]\n"
          ]
        }
      ]
    },
    {
      "cell_type": "markdown",
      "source": [
        "**Ejercicio 3**\n",
        "\n",
        "\n"
      ],
      "metadata": {
        "id": "qg9oj9Qf7u-r"
      }
    },
    {
      "cell_type": "code",
      "source": [
        "lista1=np.arange(2,22)\n",
        "lista2=np.arange(22,32)\n",
        "print(lista1)\n",
        "print(lista2)"
      ],
      "metadata": {
        "id": "bj1DT_Vq78BC",
        "colab": {
          "base_uri": "https://localhost:8080/"
        },
        "outputId": "bf5c5616-7bdd-447e-c1db-d6752badbc91"
      },
      "execution_count": null,
      "outputs": [
        {
          "output_type": "stream",
          "name": "stdout",
          "text": [
            "[ 2  3  4  5  6  7  8  9 10 11 12 13 14 15 16 17 18 19 20 21]\n",
            "[22 23 24 25 26 27 28 29 30 31]\n"
          ]
        }
      ]
    },
    {
      "cell_type": "code",
      "source": [
        "segundoElemento=lista1[1]\n",
        "productos=segundoElemento*lista2\n",
        "print(productos)"
      ],
      "metadata": {
        "colab": {
          "base_uri": "https://localhost:8080/"
        },
        "id": "wIAL3KAtKDz0",
        "outputId": "73fe80c3-fc68-4508-af3e-02d3fa4b1fce"
      },
      "execution_count": null,
      "outputs": [
        {
          "output_type": "stream",
          "name": "stdout",
          "text": [
            "[66 69 72 75 78 81 84 87 90 93]\n"
          ]
        }
      ]
    },
    {
      "cell_type": "code",
      "source": [
        "resultado=productos/lista2\n",
        "print(resultado)"
      ],
      "metadata": {
        "colab": {
          "base_uri": "https://localhost:8080/"
        },
        "id": "ffhcQ2qEQpXY",
        "outputId": "96e851ab-aa39-476f-c499-4df055e206dd"
      },
      "execution_count": null,
      "outputs": [
        {
          "output_type": "stream",
          "name": "stdout",
          "text": [
            "[3. 3. 3. 3. 3. 3. 3. 3. 3. 3.]\n"
          ]
        }
      ]
    },
    {
      "cell_type": "code",
      "source": [
        "segundo_elem = lista1[1]\n",
        "print(\"\\nSegundo elemento de lista1:\", segundo_elem)"
      ],
      "metadata": {
        "colab": {
          "base_uri": "https://localhost:8080/"
        },
        "id": "xpl5-V5dKKUc",
        "outputId": "83a1b632-7652-4229-9aef-1c46d912926c"
      },
      "execution_count": null,
      "outputs": [
        {
          "output_type": "stream",
          "name": "stdout",
          "text": [
            "\n",
            "Segundo elemento de lista1: 3\n"
          ]
        }
      ]
    },
    {
      "cell_type": "markdown",
      "source": [
        "**Ejercicio 4**"
      ],
      "metadata": {
        "id": "BNWkkygK78m6"
      }
    },
    {
      "cell_type": "code",
      "source": [
        "matriz = np.random.randint(20, 40, size=(2,2))\n",
        "print(matriz)"
      ],
      "metadata": {
        "colab": {
          "base_uri": "https://localhost:8080/"
        },
        "id": "QNxHAbNb7-nY",
        "outputId": "462fb38b-a346-46fa-eb21-00a2cd6a245c"
      },
      "execution_count": null,
      "outputs": [
        {
          "output_type": "stream",
          "name": "stdout",
          "text": [
            "[[31 32]\n",
            " [36 38]]\n"
          ]
        }
      ]
    },
    {
      "cell_type": "code",
      "source": [
        "determinante=np.linalg.det(matriz)\n",
        "print(determinante)"
      ],
      "metadata": {
        "colab": {
          "base_uri": "https://localhost:8080/"
        },
        "id": "ganQqUbJ8jBN",
        "outputId": "16b1a8bf-c2c5-441b-b194-3c97de6a81a4"
      },
      "execution_count": null,
      "outputs": [
        {
          "output_type": "stream",
          "name": "stdout",
          "text": [
            "25.999999999999968\n"
          ]
        }
      ]
    },
    {
      "cell_type": "code",
      "source": [
        "if determinante!=0:\n",
        "  inversa= np.linalg.inv(matriz)\n",
        "  print(inversa)\n",
        "else:\n",
        "  print(\"El determinante es 0\")"
      ],
      "metadata": {
        "colab": {
          "base_uri": "https://localhost:8080/"
        },
        "id": "r26HAl3b96yz",
        "outputId": "a97b9405-bb3b-4fd4-833c-700680e23b88"
      },
      "execution_count": null,
      "outputs": [
        {
          "output_type": "stream",
          "name": "stdout",
          "text": [
            "[[ 1.46153846 -1.23076923]\n",
            " [-1.38461538  1.19230769]]\n"
          ]
        }
      ]
    },
    {
      "cell_type": "code",
      "source": [
        "if determinante!=0:\n",
        "  matrizIdentidad=np.dot(matriz,inversa)\n",
        "  matrizIdentidad = np.round(matrizIdentidad, decimals=6)\n",
        "  print(\"Matriz original por la inversa es:\", matrizIdentidad)\n",
        "else:\n",
        "  print(\"La matriz no tiene inversa porque el determinante es cero\")"
      ],
      "metadata": {
        "colab": {
          "base_uri": "https://localhost:8080/"
        },
        "id": "REFS_TSo-BVb",
        "outputId": "e0336e30-4d95-4247-f5c2-e94baddca50b",
        "collapsed": true
      },
      "execution_count": null,
      "outputs": [
        {
          "output_type": "stream",
          "name": "stdout",
          "text": [
            "Matriz original por la inversa es: [[ 1.  0.]\n",
            " [-0.  1.]]\n"
          ]
        }
      ]
    },
    {
      "cell_type": "code",
      "source": [
        "MatrizSymPy = sp.Matrix(matriz)\n",
        "letrica= sp.symbols('λ')"
      ],
      "metadata": {
        "id": "yRgbkKc5BWBp",
        "collapsed": true
      },
      "execution_count": null,
      "outputs": []
    },
    {
      "cell_type": "code",
      "source": [
        "MatrizIdentidad = sp.eye(MatrizSymPy.shape[0])"
      ],
      "metadata": {
        "id": "AkYaXE7jBZOD",
        "collapsed": true
      },
      "execution_count": null,
      "outputs": []
    },
    {
      "cell_type": "code",
      "source": [
        "polinomioCaracteristico = (MatrizSymPy - letrica * MatrizIdentidad).det()\n",
        "print(\"polinomio Caracteristico:\")\n",
        "print(polinomioCaracteristico)"
      ],
      "metadata": {
        "colab": {
          "base_uri": "https://localhost:8080/"
        },
        "id": "7flW71YnBbSq",
        "outputId": "aae58aa2-68e9-490f-ca12-43b38cd12f8a"
      },
      "execution_count": null,
      "outputs": [
        {
          "output_type": "stream",
          "name": "stdout",
          "text": [
            "polinomio Caracteristico:\n",
            "λ**2 - 69*λ + 26\n"
          ]
        }
      ]
    },
    {
      "cell_type": "markdown",
      "source": [
        "**Ejercicio 5**\n"
      ],
      "metadata": {
        "id": "96f6lhWFNnzk"
      }
    },
    {
      "cell_type": "code",
      "source": [
        "x = sp.symbols('x')\n",
        "z=(x+1)*(x-1)"
      ],
      "metadata": {
        "id": "HGz-1uOlNq48"
      },
      "execution_count": null,
      "outputs": []
    },
    {
      "cell_type": "code",
      "source": [
        "elevado=(z**2)+(2*x)+2"
      ],
      "metadata": {
        "id": "gffSKUPDOqBw"
      },
      "execution_count": null,
      "outputs": []
    },
    {
      "cell_type": "code",
      "source": [
        "simplificado = sp.simplify(elevado)\n"
      ],
      "metadata": {
        "id": "M1a4Obi2PQSH"
      },
      "execution_count": null,
      "outputs": []
    },
    {
      "cell_type": "code",
      "source": [
        "print(simplificado)"
      ],
      "metadata": {
        "colab": {
          "base_uri": "https://localhost:8080/"
        },
        "id": "KodbiUjnPY45",
        "outputId": "bb2fb3c7-12c8-4510-de48-6b00f0b5c860"
      },
      "execution_count": null,
      "outputs": [
        {
          "output_type": "stream",
          "name": "stdout",
          "text": [
            "x**4 - 2*x**2 + 2*x + 3\n"
          ]
        }
      ]
    },
    {
      "cell_type": "markdown",
      "source": [
        "**Ejercicio 6**"
      ],
      "metadata": {
        "id": "abpNNqKZC3K_"
      }
    },
    {
      "cell_type": "code",
      "source": [
        "def f1(x):\n",
        "  return np.sin(x**2)\n",
        "x=1\n",
        "print(f1(x))"
      ],
      "metadata": {
        "colab": {
          "base_uri": "https://localhost:8080/"
        },
        "id": "bq5WygJjC7Gx",
        "outputId": "6607fad7-f8a5-4318-b9cc-977b10882f8c"
      },
      "execution_count": null,
      "outputs": [
        {
          "output_type": "stream",
          "name": "stdout",
          "text": [
            "0.8414709848078965\n"
          ]
        }
      ]
    },
    {
      "cell_type": "code",
      "source": [
        "def g1(x):\n",
        "  return np.sin(x)**2\n",
        "x=1\n",
        "print(g1(x))"
      ],
      "metadata": {
        "colab": {
          "base_uri": "https://localhost:8080/"
        },
        "id": "NGhScGeTD5IS",
        "outputId": "6762e02f-2d7f-40f4-d6e3-7cf5d9596fca"
      },
      "execution_count": null,
      "outputs": [
        {
          "output_type": "stream",
          "name": "stdout",
          "text": [
            "0.7080734182735712\n"
          ]
        }
      ]
    },
    {
      "cell_type": "markdown",
      "source": [
        "# Primer taller en grupo 14 de agosto"
      ],
      "metadata": {
        "id": "WlMA_bSz9ywH"
      }
    },
    {
      "cell_type": "markdown",
      "source": [
        "**Primer punto**"
      ],
      "metadata": {
        "id": "TvJZlX_o-CBI"
      }
    },
    {
      "cell_type": "markdown",
      "source": [
        "![image.png](data:image/png;base64,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)"
      ],
      "metadata": {
        "id": "5RogUmozQTZT"
      }
    },
    {
      "cell_type": "markdown",
      "source": [
        "**FUNCIÓN OBJETIVA**\n",
        "*  Z=40X+50Y\n",
        "\n",
        "**RESTRICCIONES**\n",
        "\n",
        "*   R1(X,Y)=3X+2Y <= 120\n",
        "*   R2(X,Y)=2X+4Y<=160\n",
        "\n",
        "\n",
        "**CONDICIONES**\n",
        "*   X>=0\n",
        "*   Y>=0"
      ],
      "metadata": {
        "id": "quSEveM0Rro6"
      }
    },
    {
      "cell_type": "code",
      "source": [
        "import numpy as np\n",
        "\n",
        "array1 = np.array([[3, 2],\n",
        "                   [2, 4]])\n",
        "array2 = np.array([120, 160])\n",
        "solucion = np.linalg.solve(array1, array2)\n",
        "def aproximar(valor):\n",
        "    decimal = valor - int(valor)\n",
        "    if decimal >= 0.6:\n",
        "        return int(valor) + 1\n",
        "    else:\n",
        "        return int(valor)\n",
        "x = aproximar(solucion[0])\n",
        "y = aproximar(solucion[1])\n",
        "\n",
        "print(\"Solución:\")\n",
        "print(f\"x = {x}\")\n",
        "print(f\"y = {y}\")\n"
      ],
      "metadata": {
        "id": "zDzM2IAH97Vd",
        "colab": {
          "base_uri": "https://localhost:8080/"
        },
        "outputId": "5d5c2db1-177c-4769-cc77-d7eecd29551b"
      },
      "execution_count": null,
      "outputs": [
        {
          "output_type": "stream",
          "name": "stdout",
          "text": [
            "Solución:\n",
            "x = 20\n",
            "y = 30\n"
          ]
        }
      ]
    },
    {
      "cell_type": "code",
      "source": [
        "#ECUACION R1: Intercepto en X cuando Y vale 0\n",
        "\n",
        "x, y = symbols('x y')\n",
        "\n",
        "R1 = Eq(3*x + 2*y, 120)\n",
        "\n",
        "def evaluar(x_val, y_val):\n",
        "    return R1.lhs.subs({x: x_val, y: y_val})\n",
        "\n",
        "x_val = 20\n",
        "y_val = 30\n",
        "\n",
        "resultado = evaluar(x_val, y_val)\n",
        "print(resultado/3)\n"
      ],
      "metadata": {
        "colab": {
          "base_uri": "https://localhost:8080/"
        },
        "id": "_G2xSuswUwKn",
        "outputId": "42aa3926-f2b6-4461-8caa-01c19d842875"
      },
      "execution_count": null,
      "outputs": [
        {
          "output_type": "stream",
          "name": "stdout",
          "text": [
            "40\n"
          ]
        }
      ]
    },
    {
      "cell_type": "code",
      "source": [
        "#ECUACIÓN R1: Intercepto en Y cuando X vale 0\n",
        "x, y = symbols('x y')\n",
        "\n",
        "R1 = Eq(3*x + 2*y, 120)\n",
        "\n",
        "def evaluar(x_val, y_val):\n",
        "    return R1.lhs.subs({x: x_val, y: y_val})\n",
        "\n",
        "x_val = 20\n",
        "y_val = 30\n",
        "\n",
        "resultado = evaluar(x_val, y_val)\n",
        "print(resultado/2)\n"
      ],
      "metadata": {
        "colab": {
          "base_uri": "https://localhost:8080/"
        },
        "id": "hPNwBaamWu9W",
        "outputId": "46000f99-b66c-4372-ec5f-3c8f97514675"
      },
      "execution_count": null,
      "outputs": [
        {
          "output_type": "stream",
          "name": "stdout",
          "text": [
            "60\n"
          ]
        }
      ]
    },
    {
      "cell_type": "code",
      "source": [
        "#ECUACIÓN R2: Intercepto X cuando Y vale 0\n",
        "x, y = symbols('x y')\n",
        "\n",
        "R1 = Eq(2*x + 4*y, 160)\n",
        "\n",
        "def evaluar(x_val, y_val):\n",
        "    return R1.lhs.subs({x: x_val, y: y_val})\n",
        "\n",
        "x_val = 20\n",
        "y_val = 30\n",
        "\n",
        "resultado = evaluar(x_val, y_val)\n",
        "print(resultado/2)"
      ],
      "metadata": {
        "colab": {
          "base_uri": "https://localhost:8080/"
        },
        "id": "WYRFnweiZ3D2",
        "outputId": "eda79fa4-a420-42e7-e29c-266d00fb73ff"
      },
      "execution_count": null,
      "outputs": [
        {
          "output_type": "stream",
          "name": "stdout",
          "text": [
            "80\n"
          ]
        }
      ]
    },
    {
      "cell_type": "code",
      "source": [
        "#ECUACIÓN R2: Intercepto en Y cuando X vale 0\n",
        "x, y = symbols('x y')\n",
        "\n",
        "R1 = Eq(2*x + 4*y, 160)\n",
        "\n",
        "def evaluar(x_val, y_val):\n",
        "    return R1.lhs.subs({x: x_val, y: y_val})\n",
        "\n",
        "x_val = 20\n",
        "y_val = 30\n",
        "\n",
        "resultado = evaluar(x_val, y_val)\n",
        "print(resultado/4)"
      ],
      "metadata": {
        "colab": {
          "base_uri": "https://localhost:8080/"
        },
        "id": "J-eEz-UBaINv",
        "outputId": "6a742051-e1e9-44bc-dc52-b221ac6d7b1e"
      },
      "execution_count": null,
      "outputs": [
        {
          "output_type": "stream",
          "name": "stdout",
          "text": [
            "40\n"
          ]
        }
      ]
    },
    {
      "cell_type": "code",
      "source": [
        "plt.plot([0,40],[60,0])\n",
        "plt.plot([0,80],[40,0])\n",
        "\n",
        "plt.fill([0,40,0], 'gray', alpha=0.3)\n",
        "plt.fill([0,80,0],[0,0,40], 'gray', alpha=0.3)\n",
        "\n",
        "plt.text(40, -3, '40', ha='center')\n",
        "plt.text(-3, 60, '60', va='center', ha='right')\n",
        "\n",
        "plt.text(80, -3, '80', ha='center')\n",
        "plt.text(-3, 40, '40', va='center', ha='right')\n",
        "\n",
        "plt.xticks([])\n",
        "plt.yticks([])\n",
        "plt.axhline(0, color='black')\n",
        "plt.axvline(0, color='black')\n",
        "\n",
        "plt.show()\n"
      ],
      "metadata": {
        "colab": {
          "base_uri": "https://localhost:8080/",
          "height": 409
        },
        "id": "9xsrSgRFaTqQ",
        "outputId": "9f2d34d6-a073-4152-e1c5-4e686719f8dd"
      },
      "execution_count": null,
      "outputs": [
        {
          "output_type": "display_data",
          "data": {
            "text/plain": [
              "<Figure size 640x480 with 1 Axes>"
            ],
            "image/png": "[encoded data removed]"
          },
          "metadata": {}
        }
      ]
    },
    {
      "cell_type": "code",
      "source": [],
      "metadata": {
        "id": "2LBy6z32b_rO"
      },
      "execution_count": null,
      "outputs": []
    }
  ]
}